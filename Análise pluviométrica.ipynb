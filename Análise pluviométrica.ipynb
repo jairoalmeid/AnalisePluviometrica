{
 "cells": [
  {
   "cell_type": "markdown",
   "id": "61323e86",
   "metadata": {},
   "source": [
    "## Análise pluviométrica - Belém-PA ##"
   ]
  },
  {
   "cell_type": "markdown",
   "id": "86316ce4",
   "metadata": {},
   "source": [
    "Desenvolvida por Jairo Almeida\n",
    "Acesse a última versão desse código em github.com/jairoalmeida\n",
    "\n",
    "Essa análise foi realizada com os dados abertos disponíveis pelo CEMADEN, para fazer download de dados de outros municípios acesse http://www2.cemaden.gov.br/mapainterativo/download/downpluv.php\n",
    "\n",
    "Os dados são disponibilizados separados por mês, para acessar os dados da região de Belém-PA agrupados por ano, acesse github.com/jairoalmeida\n",
    "\n",
    "Essa análise foi realizada considerando os últimos 5 anos (2017-2021), excluindo 2022 por ser o ano corrente e não ter a tabulação de todos os meses concluída.\n",
    "\n",
    "------------\n",
    "\n",
    "Requisitos para execução\n"
   ]
  },
  {
   "cell_type": "code",
   "execution_count": null,
   "id": "2c6f4e7f",
   "metadata": {},
   "outputs": [],
   "source": []
  }
 ],
 "metadata": {
  "kernelspec": {
   "display_name": "Python 3 (ipykernel)",
   "language": "python",
   "name": "python3"
  },
  "language_info": {
   "codemirror_mode": {
    "name": "ipython",
    "version": 3
   },
   "file_extension": ".py",
   "mimetype": "text/x-python",
   "name": "python",
   "nbconvert_exporter": "python",
   "pygments_lexer": "ipython3",
   "version": "3.9.12"
  }
 },
 "nbformat": 4,
 "nbformat_minor": 5
}
